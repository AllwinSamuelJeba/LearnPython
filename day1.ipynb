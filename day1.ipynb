{
 "cells": [
  {
   "cell_type": "markdown",
   "id": "4e6952fb",
   "metadata": {},
   "source": [
    "# Strings in Python"
   ]
  },
  {
   "cell_type": "markdown",
   "id": "edf24631",
   "metadata": {},
   "source": [
    "String can be created in 3 ways in Python.\n",
    "1. Using Double qoutes\n",
    "2. Using Single Qoutes\n",
    "3. Using three quoutes"
   ]
  },
  {
   "cell_type": "markdown",
   "id": "1a3f374f",
   "metadata": {},
   "source": [
    "## Using Double Quotes"
   ]
  },
  {
   "cell_type": "code",
   "execution_count": 19,
   "id": "4ef4ce5b",
   "metadata": {},
   "outputs": [
    {
     "name": "stdout",
     "output_type": "stream",
     "text": [
      "This is a string in double quotes.\n"
     ]
    }
   ],
   "source": [
    "doubleQoutes =\"This is a string in double quotes.\"\n",
    "\n",
    "print(doubleQoutes)"
   ]
  },
  {
   "cell_type": "markdown",
   "id": "7da494f0",
   "metadata": {},
   "source": [
    "## Using Single Quotes\n"
   ]
  },
  {
   "cell_type": "code",
   "execution_count": 18,
   "id": "5e1c13c9",
   "metadata": {},
   "outputs": [
    {
     "name": "stdout",
     "output_type": "stream",
     "text": [
      "This is a string in single quotes.\n"
     ]
    }
   ],
   "source": [
    "singleQuotes = 'This is a string in single quotes.'\n",
    "print(singleQuotes)"
   ]
  },
  {
   "cell_type": "markdown",
   "id": "676ac73d",
   "metadata": {},
   "source": [
    "## Using Triple Quotes"
   ]
  },
  {
   "cell_type": "code",
   "execution_count": 22,
   "id": "e136d519",
   "metadata": {},
   "outputs": [
    {
     "name": "stdout",
     "output_type": "stream",
     "text": [
      "This is used to type\n",
      "multiline string in \n",
      "Python.\n"
     ]
    }
   ],
   "source": [
    "tripleQoutes = '''This is used to type\n",
    "multiline string in \n",
    "Python.'''\n",
    "\n",
    "print(tripleQoutes)"
   ]
  },
  {
   "cell_type": "markdown",
   "id": "b5d38f47",
   "metadata": {},
   "source": [
    "## String Concartination\n",
    "\n",
    "Multiple strings can be concartinated by using the \"+\" operator between them.\n"
   ]
  },
  {
   "cell_type": "code",
   "execution_count": 21,
   "id": "97a7bd41",
   "metadata": {
    "scrolled": true
   },
   "outputs": [
    {
     "name": "stdout",
     "output_type": "stream",
     "text": [
      "This is a string in single quotes. This is a string in double quotes. This is used to type\n",
      "multiline string in \n",
      "Python.\n"
     ]
    }
   ],
   "source": [
    "concatString = singleQuotes + \" \" + doubleQoutes + \" \" + tripleQoutes\n",
    "print(concatString)"
   ]
  },
  {
   "cell_type": "markdown",
   "id": "f5c31523",
   "metadata": {},
   "source": [
    "## String Methods\n",
    "\n",
    "String offers various methods to manipulate the strings."
   ]
  },
  {
   "cell_type": "markdown",
   "id": "d4621867",
   "metadata": {},
   "source": [
    "### Upper Case\n"
   ]
  },
  {
   "cell_type": "code",
   "execution_count": 24,
   "id": "04b59989",
   "metadata": {},
   "outputs": [
    {
     "name": "stdout",
     "output_type": "stream",
     "text": [
      "THIS IS A STRING IN SINGLE QUOTES.\n"
     ]
    }
   ],
   "source": [
    "\n",
    "print(singleQuotes.upper())"
   ]
  },
  {
   "cell_type": "code",
   "execution_count": null,
   "id": "e53eff0a",
   "metadata": {},
   "outputs": [],
   "source": []
  }
 ],
 "metadata": {
  "kernelspec": {
   "display_name": "Python 3 (ipykernel)",
   "language": "python",
   "name": "python3"
  },
  "language_info": {
   "codemirror_mode": {
    "name": "ipython",
    "version": 3
   },
   "file_extension": ".py",
   "mimetype": "text/x-python",
   "name": "python",
   "nbconvert_exporter": "python",
   "pygments_lexer": "ipython3",
   "version": "3.11.5"
  }
 },
 "nbformat": 4,
 "nbformat_minor": 5
}
