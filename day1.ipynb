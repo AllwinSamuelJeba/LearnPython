{
 "cells": [
  {
   "cell_type": "markdown",
   "id": "a7776bc4",
   "metadata": {},
   "source": [
    "# Strings in Python"
   ]
  },
  {
   "cell_type": "markdown",
   "id": "8126087b",
   "metadata": {},
   "source": [
    "String can be created in 3 ways in Python.\n",
    "1. Using Double qoutes\n",
    "2. Using Single Qoutes\n",
    "3. Using three quoutes"
   ]
  },
  {
   "cell_type": "markdown",
   "id": "6c443479",
   "metadata": {},
   "source": [
    "## Using Double Quotes"
   ]
  },
  {
   "cell_type": "code",
   "execution_count": 19,
   "id": "aa72b450",
   "metadata": {},
   "outputs": [
    {
     "name": "stdout",
     "output_type": "stream",
     "text": [
      "This is a string in double quotes.\n"
     ]
    }
   ],
   "source": [
    "doubleQoutes =\"This is a string in double quotes.\"\n",
    "\n",
    "print(doubleQoutes)"
   ]
  },
  {
   "cell_type": "markdown",
   "id": "4d813d49",
   "metadata": {},
   "source": [
    "## Using Single Quotes\n"
   ]
  },
  {
   "cell_type": "code",
   "execution_count": 18,
   "id": "1a5d64fb",
   "metadata": {},
   "outputs": [
    {
     "name": "stdout",
     "output_type": "stream",
     "text": [
      "This is a string in single quotes.\n"
     ]
    }
   ],
   "source": [
    "singleQuotes = 'This is a string in single quotes.'\n",
    "print(singleQuotes)"
   ]
  },
  {
   "cell_type": "markdown",
   "id": "3dbade62",
   "metadata": {},
   "source": [
    "## Using Triple Quotes"
   ]
  },
  {
   "cell_type": "code",
   "execution_count": 20,
   "id": "e2edb38b",
   "metadata": {},
   "outputs": [
    {
     "name": "stdout",
     "output_type": "stream",
     "text": [
      "This is used to type\n",
      "multiline string in \n",
      "Python.\n"
     ]
    }
   ],
   "source": [
    "tripleQoutes = '''This is used to type\n",
    "multiline string in \n",
    "Python.'''\n",
    "\n",
    "print(tripleQoutes)"
   ]
  },
  {
   "cell_type": "markdown",
   "id": "501321e4",
   "metadata": {},
   "source": [
    "## String Concartination"
   ]
  },
  {
   "cell_type": "code",
   "execution_count": 21,
   "id": "c1a77527",
   "metadata": {},
   "outputs": [
    {
     "name": "stdout",
     "output_type": "stream",
     "text": [
      "This is a string in single quotes. This is a string in double quotes. This is used to type\n",
      "multiline string in \n",
      "Python.\n"
     ]
    }
   ],
   "source": [
    "concatString = singleQuotes + \" \" + doubleQoutes + \" \" + tripleQoutes\n",
    "print(concatString)"
   ]
  },
  {
   "cell_type": "code",
   "execution_count": null,
   "id": "c5f8cd08",
   "metadata": {},
   "outputs": [],
   "source": []
  }
 ],
 "metadata": {
  "kernelspec": {
   "display_name": "Python 3 (ipykernel)",
   "language": "python",
   "name": "python3"
  },
  "language_info": {
   "codemirror_mode": {
    "name": "ipython",
    "version": 3
   },
   "file_extension": ".py",
   "mimetype": "text/x-python",
   "name": "python",
   "nbconvert_exporter": "python",
   "pygments_lexer": "ipython3",
   "version": "3.11.5"
  }
 },
 "nbformat": 4,
 "nbformat_minor": 5
}
