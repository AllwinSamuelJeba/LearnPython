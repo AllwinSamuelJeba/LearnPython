{
 "cells": [
  {
   "cell_type": "markdown",
   "id": "7933c026",
   "metadata": {},
   "source": [
    "## Data Types in Python\n",
    "\n",
    "1. Strings\n",
    "2. Numbers (Integers & Float)\n",
    "3. Boolean"
   ]
  },
  {
   "cell_type": "markdown",
   "id": "23e5a480",
   "metadata": {},
   "source": [
    "## Numbers \n",
    "### Integers"
   ]
  },
  {
   "cell_type": "code",
   "execution_count": 1,
   "id": "5ffd5c44",
   "metadata": {},
   "outputs": [
    {
     "name": "stdout",
     "output_type": "stream",
     "text": [
      "123345678\n"
     ]
    }
   ],
   "source": [
    "value1= 123_345_678\n",
    "print(value1)"
   ]
  },
  {
   "cell_type": "code",
   "execution_count": 3,
   "id": "5b8a606d",
   "metadata": {},
   "outputs": [
    {
     "name": "stdout",
     "output_type": "stream",
     "text": [
      "123345678\n"
     ]
    }
   ],
   "source": [
    "value2= 123345678\n",
    "print(value2)"
   ]
  },
  {
   "cell_type": "markdown",
   "id": "f4d97e93",
   "metadata": {},
   "source": [
    "### Floating Numbers"
   ]
  },
  {
   "cell_type": "code",
   "execution_count": 4,
   "id": "b2492e63",
   "metadata": {},
   "outputs": [
    {
     "name": "stdout",
     "output_type": "stream",
     "text": [
      "3.145345\n"
     ]
    }
   ],
   "source": [
    "value3 = 3.145345\n",
    "print(value3)"
   ]
  },
  {
   "cell_type": "markdown",
   "id": "078d7691",
   "metadata": {},
   "source": [
    "## Type Casting\n",
    "Converting one type to another"
   ]
  },
  {
   "cell_type": "code",
   "execution_count": 7,
   "id": "655ba601",
   "metadata": {},
   "outputs": [
    {
     "name": "stdout",
     "output_type": "stream",
     "text": [
      "<class 'str'>\n",
      "<class 'int'>\n"
     ]
    }
   ],
   "source": [
    "#Type casting from string to integer\n",
    "\n",
    "stringVar = \"123\"\n",
    "print(type(stringVar))\n",
    "\n",
    "#Converting it to integer\n",
    "\n",
    "intVar = int(stringVar)\n",
    "print(type(intVar))"
   ]
  },
  {
   "cell_type": "code",
   "execution_count": 23,
   "id": "d5bb191f",
   "metadata": {},
   "outputs": [
    {
     "name": "stdout",
     "output_type": "stream",
     "text": [
      "Enter the price of banana \n",
      "10\n",
      "Enter the price of apple \n",
      "20\n",
      "The total cost of the fruits without type casting are 1020\n",
      "The total cost of the fruits with type casting are 30 \n"
     ]
    }
   ],
   "source": [
    "#Why to convert between data types\n",
    "\n",
    "#add two price to calculate total cost of grocery\n",
    "\n",
    "item1 = input(\"Enter the price of banana \\n\")\n",
    "item2 = input(\"Enter the price of apple \\n\")\n",
    "\n",
    "totalPrice = item1+item2\n",
    "\n",
    "print(\"The total cost of the fruits without type casting are \"+ totalPrice)\n",
    "\n",
    "totalNewPrice = int(item1) + int(item2)\n",
    "print(\"The total cost of the fruits with type casting are %s \" %totalNewPrice)"
   ]
  },
  {
   "cell_type": "code",
   "execution_count": null,
   "id": "32ba8c13",
   "metadata": {},
   "outputs": [],
   "source": [
    "#Another example\n",
    "\n"
   ]
  }
 ],
 "metadata": {
  "kernelspec": {
   "display_name": "Python 3 (ipykernel)",
   "language": "python",
   "name": "python3"
  },
  "language_info": {
   "codemirror_mode": {
    "name": "ipython",
    "version": 3
   },
   "file_extension": ".py",
   "mimetype": "text/x-python",
   "name": "python",
   "nbconvert_exporter": "python",
   "pygments_lexer": "ipython3",
   "version": "3.11.5"
  }
 },
 "nbformat": 4,
 "nbformat_minor": 5
}
