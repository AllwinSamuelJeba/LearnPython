{
 "cells": [
  {
   "cell_type": "markdown",
   "id": "076859f7",
   "metadata": {},
   "source": [
    "## Conditional Statements in Python"
   ]
  },
  {
   "cell_type": "markdown",
   "id": "94a7cefe",
   "metadata": {},
   "source": [
    "### If Else"
   ]
  },
  {
   "cell_type": "code",
   "execution_count": 3,
   "id": "619d1d6e",
   "metadata": {},
   "outputs": [
    {
     "name": "stdout",
     "output_type": "stream",
     "text": [
      "Enter your height.30\n",
      "Unfortunately, you are not allowed to enter the ride.\n"
     ]
    }
   ],
   "source": [
    "#Check the height of the person if they are eligible for the ride\n",
    "\n",
    "height = int(input(\"Enter your height.\"))\n",
    "if height >=120 :\n",
    "    print(\"You are allowed to enter the ride.\")\n",
    "else:\n",
    "    print(\"Unfortunately, you are not allowed to enter the ride.\")"
   ]
  },
  {
   "cell_type": "code",
   "execution_count": null,
   "id": "0dc8eaf5",
   "metadata": {},
   "outputs": [],
   "source": []
  },
  {
   "cell_type": "markdown",
   "id": "aecf3f24",
   "metadata": {},
   "source": [
    "### Nested if else statements\n"
   ]
  },
  {
   "cell_type": "code",
   "execution_count": 2,
   "id": "127483da",
   "metadata": {},
   "outputs": [
    {
     "name": "stdout",
     "output_type": "stream",
     "text": [
      "Enter your weight 20\n",
      "Enter your height 2\n",
      "You are too small for the ride\n"
     ]
    }
   ],
   "source": [
    "#Check the weight and height of a person for the ride\n",
    "weight = float(input(\"Enter your weight \"))\n",
    "height = float(input(\"Enter your height \"))\n",
    "\n",
    "if height >=120:\n",
    "    if weight >=60:\n",
    "        print(\"You are allowed to enter the ride\")\n",
    "    else:\n",
    "        print(\"You are too light for the ride\")\n",
    "else: print(\"You are too short for the ride\")"
   ]
  },
  {
   "cell_type": "code",
   "execution_count": null,
   "id": "daef95a1",
   "metadata": {},
   "outputs": [],
   "source": []
  },
  {
   "cell_type": "code",
   "execution_count": null,
   "id": "adb6e1b5",
   "metadata": {},
   "outputs": [],
   "source": []
  }
 ],
 "metadata": {
  "kernelspec": {
   "display_name": "Python 3 (ipykernel)",
   "language": "python",
   "name": "python3"
  },
  "language_info": {
   "codemirror_mode": {
    "name": "ipython",
    "version": 3
   },
   "file_extension": ".py",
   "mimetype": "text/x-python",
   "name": "python",
   "nbconvert_exporter": "python",
   "pygments_lexer": "ipython3",
   "version": "3.11.5"
  }
 },
 "nbformat": 4,
 "nbformat_minor": 5
}
