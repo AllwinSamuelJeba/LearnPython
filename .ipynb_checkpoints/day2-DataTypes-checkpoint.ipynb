{
 "cells": [
  {
   "cell_type": "markdown",
   "id": "984b2cda",
   "metadata": {},
   "source": [
    "## Data Types in Python\n",
    "\n",
    "1. Strings\n",
    "2. Numbers (Integers & Float)\n",
    "3. Boolean"
   ]
  },
  {
   "cell_type": "markdown",
   "id": "37515f67",
   "metadata": {},
   "source": [
    "## Numbers \n",
    "### Integers"
   ]
  },
  {
   "cell_type": "code",
   "execution_count": 1,
   "id": "dd908777",
   "metadata": {},
   "outputs": [
    {
     "name": "stdout",
     "output_type": "stream",
     "text": [
      "123345678\n"
     ]
    }
   ],
   "source": [
    "value1= 123_345_678\n",
    "print(value1)"
   ]
  },
  {
   "cell_type": "code",
   "execution_count": 3,
   "id": "a1559f06",
   "metadata": {},
   "outputs": [
    {
     "name": "stdout",
     "output_type": "stream",
     "text": [
      "123345678\n"
     ]
    }
   ],
   "source": [
    "value2= 123345678\n",
    "print(value2)"
   ]
  },
  {
   "cell_type": "markdown",
   "id": "0c0a7e31",
   "metadata": {},
   "source": [
    "### Floating Numbers"
   ]
  },
  {
   "cell_type": "code",
   "execution_count": 4,
   "id": "342e1756",
   "metadata": {},
   "outputs": [
    {
     "name": "stdout",
     "output_type": "stream",
     "text": [
      "3.145345\n"
     ]
    }
   ],
   "source": [
    "value3 = 3.145345\n",
    "print(value3)"
   ]
  },
  {
   "cell_type": "code",
   "execution_count": null,
   "id": "26a05991",
   "metadata": {},
   "outputs": [],
   "source": []
  }
 ],
 "metadata": {
  "kernelspec": {
   "display_name": "Python 3 (ipykernel)",
   "language": "python",
   "name": "python3"
  },
  "language_info": {
   "codemirror_mode": {
    "name": "ipython",
    "version": 3
   },
   "file_extension": ".py",
   "mimetype": "text/x-python",
   "name": "python",
   "nbconvert_exporter": "python",
   "pygments_lexer": "ipython3",
   "version": "3.11.5"
  }
 },
 "nbformat": 4,
 "nbformat_minor": 5
}
