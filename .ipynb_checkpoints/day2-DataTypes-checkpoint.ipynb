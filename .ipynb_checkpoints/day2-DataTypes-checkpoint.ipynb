{
 "cells": [
  {
   "cell_type": "markdown",
   "id": "6cd95b1e",
   "metadata": {},
   "source": [
    "## Data Types in Python\n",
    "\n",
    "1. Strings\n",
    "2. Numbers (Integers & Float)\n",
    "3. Boolean"
   ]
  },
  {
   "cell_type": "markdown",
   "id": "9015babe",
   "metadata": {},
   "source": [
    "## Numbers \n",
    "### Integers"
   ]
  },
  {
   "cell_type": "code",
   "execution_count": 1,
   "id": "12085713",
   "metadata": {},
   "outputs": [
    {
     "name": "stdout",
     "output_type": "stream",
     "text": [
      "123345678\n"
     ]
    }
   ],
   "source": [
    "value1= 123_345_678\n",
    "print(value1)"
   ]
  },
  {
   "cell_type": "code",
   "execution_count": 3,
   "id": "75f26c54",
   "metadata": {},
   "outputs": [
    {
     "name": "stdout",
     "output_type": "stream",
     "text": [
      "123345678\n"
     ]
    }
   ],
   "source": [
    "value2= 123345678\n",
    "print(value2)"
   ]
  },
  {
   "cell_type": "markdown",
   "id": "abb2a599",
   "metadata": {},
   "source": [
    "### Floating Numbers"
   ]
  },
  {
   "cell_type": "code",
   "execution_count": 4,
   "id": "b78d299a",
   "metadata": {},
   "outputs": [
    {
     "name": "stdout",
     "output_type": "stream",
     "text": [
      "3.145345\n"
     ]
    }
   ],
   "source": [
    "value3 = 3.145345\n",
    "print(value3)"
   ]
  },
  {
   "cell_type": "markdown",
   "id": "565ce8cd",
   "metadata": {},
   "source": [
    "## Type Casting\n",
    "Converting one type to another"
   ]
  },
  {
   "cell_type": "code",
   "execution_count": 7,
   "id": "c7d3b216",
   "metadata": {},
   "outputs": [
    {
     "name": "stdout",
     "output_type": "stream",
     "text": [
      "<class 'str'>\n",
      "<class 'int'>\n"
     ]
    }
   ],
   "source": [
    "#Type casting from string to integer\n",
    "\n",
    "stringVar = \"123\"\n",
    "print(type(stringVar))\n",
    "\n",
    "#Converting it to integer\n",
    "\n",
    "intVar = int(stringVar)\n",
    "print(type(intVar))"
   ]
  },
  {
   "cell_type": "code",
   "execution_count": 23,
   "id": "b9a38381",
   "metadata": {},
   "outputs": [
    {
     "name": "stdout",
     "output_type": "stream",
     "text": [
      "Enter the price of banana \n",
      "10\n",
      "Enter the price of apple \n",
      "20\n",
      "The total cost of the fruits without type casting are 1020\n",
      "The total cost of the fruits with type casting are 30 \n"
     ]
    }
   ],
   "source": [
    "#Why to convert between data types\n",
    "\n",
    "#add two price to calculate total cost of grocery\n",
    "\n",
    "item1 = input(\"Enter the price of banana \\n\")\n",
    "item2 = input(\"Enter the price of apple \\n\")\n",
    "\n",
    "totalPrice = item1+item2\n",
    "\n",
    "print(\"The total cost of the fruits without type casting are \"+ totalPrice)\n",
    "\n",
    "totalNewPrice = int(item1) + int(item2)\n",
    "print(\"The total cost of the fruits with type casting are %s \" %totalNewPrice)"
   ]
  },
  {
   "cell_type": "code",
   "execution_count": 28,
   "id": "70333988",
   "metadata": {},
   "outputs": [
    {
     "name": "stdout",
     "output_type": "stream",
     "text": [
      "Enter the first numeral \n",
      "1\n",
      "Enter the second numeral \n",
      "1\n",
      "The sum is 2.\n"
     ]
    }
   ],
   "source": [
    "#Another example of why to convert between data types\n",
    "\n",
    "# Simple adding calculator\n",
    "\n",
    "numeral1 = input(\"Enter the first numeral \\n\")\n",
    "numeral2 = input(\"Enter the second numeral \\n\")\n",
    "\n",
    "total = int(numeral1) + int(numeral2)\n",
    "print(\"The sum is %s\" %total + \".\")"
   ]
  },
  {
   "cell_type": "markdown",
   "id": "1ed83b5d",
   "metadata": {},
   "source": [
    "### Boolean"
   ]
  },
  {
   "cell_type": "markdown",
   "id": "c99220a5",
   "metadata": {},
   "source": [
    "Boolean is a deterministic data type which can either be true or false"
   ]
  },
  {
   "cell_type": "code",
   "execution_count": 33,
   "id": "bec578a0",
   "metadata": {},
   "outputs": [
    {
     "name": "stdout",
     "output_type": "stream",
     "text": [
      "True\n"
     ]
    }
   ],
   "source": [
    "booleanType = True\n",
    "print(booleanType)"
   ]
  },
  {
   "cell_type": "code",
   "execution_count": 34,
   "id": "eaf56e12",
   "metadata": {},
   "outputs": [
    {
     "name": "stdout",
     "output_type": "stream",
     "text": [
      "Boolean is set to True\n"
     ]
    }
   ],
   "source": [
    "if booleanType == True:\n",
    "    print(\"Boolean is set to True\")\n",
    "else:\n",
    "    print(\"Boolean is set to False\")"
   ]
  },
  {
   "cell_type": "code",
   "execution_count": null,
   "id": "cc8cf66c",
   "metadata": {},
   "outputs": [],
   "source": []
  }
 ],
 "metadata": {
  "kernelspec": {
   "display_name": "Python 3 (ipykernel)",
   "language": "python",
   "name": "python3"
  },
  "language_info": {
   "codemirror_mode": {
    "name": "ipython",
    "version": 3
   },
   "file_extension": ".py",
   "mimetype": "text/x-python",
   "name": "python",
   "nbconvert_exporter": "python",
   "pygments_lexer": "ipython3",
   "version": "3.11.5"
  }
 },
 "nbformat": 4,
 "nbformat_minor": 5
}
