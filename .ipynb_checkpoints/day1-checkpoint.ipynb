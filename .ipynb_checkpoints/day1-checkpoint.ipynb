{
 "cells": [
  {
   "cell_type": "markdown",
   "id": "695fdabc",
   "metadata": {},
   "source": [
    "# Day 1 \n",
    "\n",
    "## Chapter 1 - All About Strings\n",
    "\n",
    "https://python101.pythonlibrary.org/chapter2_strings.html"
   ]
  },
  {
   "cell_type": "markdown",
   "id": "e550573b",
   "metadata": {},
   "source": [
    "# Strings in Python"
   ]
  },
  {
   "cell_type": "markdown",
   "id": "fa3d36cc",
   "metadata": {},
   "source": [
    "String can be created in 3 ways in Python.\n",
    "1. Using Double qoutes\n",
    "2. Using Single Qoutes\n",
    "3. Using three quoutes"
   ]
  },
  {
   "cell_type": "markdown",
   "id": "8fdf1bae",
   "metadata": {},
   "source": [
    "## Using Double Quotes"
   ]
  },
  {
   "cell_type": "code",
   "execution_count": 44,
   "id": "5059ff63",
   "metadata": {},
   "outputs": [
    {
     "name": "stdout",
     "output_type": "stream",
     "text": [
      "This is a string in double quotes.\n"
     ]
    }
   ],
   "source": [
    "doubleQoutes =\"This is a string in double quotes.\"\n",
    "\n",
    "print(doubleQoutes)"
   ]
  },
  {
   "cell_type": "markdown",
   "id": "86065817",
   "metadata": {},
   "source": [
    "## Using Single Quotes\n"
   ]
  },
  {
   "cell_type": "code",
   "execution_count": 45,
   "id": "7d20b948",
   "metadata": {},
   "outputs": [
    {
     "name": "stdout",
     "output_type": "stream",
     "text": [
      "This is a string in single quotes.\n"
     ]
    }
   ],
   "source": [
    "singleQuotes = 'This is a string in single quotes.'\n",
    "print(singleQuotes)"
   ]
  },
  {
   "cell_type": "markdown",
   "id": "2a83293c",
   "metadata": {},
   "source": [
    "## Using Triple Quotes"
   ]
  },
  {
   "cell_type": "code",
   "execution_count": 46,
   "id": "f8b0c658",
   "metadata": {},
   "outputs": [
    {
     "name": "stdout",
     "output_type": "stream",
     "text": [
      "This is used to type\n",
      "multiline string in \n",
      "Python.\n"
     ]
    }
   ],
   "source": [
    "tripleQoutes = '''This is used to type\n",
    "multiline string in \n",
    "Python.'''\n",
    "\n",
    "print(tripleQoutes)"
   ]
  },
  {
   "cell_type": "markdown",
   "id": "26dfdc63",
   "metadata": {},
   "source": [
    "## String Concartination\n",
    "\n",
    "Multiple strings can be concartinated by using the \"+\" operator between them.\n"
   ]
  },
  {
   "cell_type": "code",
   "execution_count": 47,
   "id": "2dc23760",
   "metadata": {
    "scrolled": true
   },
   "outputs": [
    {
     "name": "stdout",
     "output_type": "stream",
     "text": [
      "This is a string in single quotes. This is a string in double quotes. This is used to type\n",
      "multiline string in \n",
      "Python.\n"
     ]
    }
   ],
   "source": [
    "concatString = singleQuotes + \" \" + doubleQoutes + \" \" + tripleQoutes\n",
    "print(concatString)"
   ]
  },
  {
   "cell_type": "markdown",
   "id": "e0ccbed7",
   "metadata": {},
   "source": [
    "## String Methods\n",
    "\n",
    "String offers various methods to manipulate the strings."
   ]
  },
  {
   "cell_type": "markdown",
   "id": "f4ff925b",
   "metadata": {},
   "source": [
    "### Upper Case"
   ]
  },
  {
   "cell_type": "code",
   "execution_count": 48,
   "id": "e3e52d65",
   "metadata": {},
   "outputs": [
    {
     "name": "stdout",
     "output_type": "stream",
     "text": [
      "THIS STRING WILL BE CONVERTED INTO UPPERCASE WHILE PRINTING ON THE SCREEN.\n"
     ]
    }
   ],
   "source": [
    "stringInUpperCase = 'This string will be converted into uppercase while printing on the screen.'\n",
    "print(stringInUpperCase.upper())"
   ]
  },
  {
   "cell_type": "markdown",
   "id": "6ac009bc",
   "metadata": {},
   "source": [
    "### Lower Case"
   ]
  },
  {
   "cell_type": "code",
   "execution_count": 49,
   "id": "a9b032e1",
   "metadata": {},
   "outputs": [
    {
     "name": "stdout",
     "output_type": "stream",
     "text": [
      "this string will be converted into lowercase while printing on the screen.\n"
     ]
    }
   ],
   "source": [
    "stringInLowerCase = 'THIS STRING WILL BE CONVERTED INTO LOWERCASE WHILE PRINTING ON THE SCREEN.'\n",
    "print(stringInLowerCase.lower())"
   ]
  },
  {
   "cell_type": "markdown",
   "id": "488654df",
   "metadata": {},
   "source": [
    "### String Slicing\n",
    "\n",
    "One subject that you’ll find yourself doing a lot of in the real world is string slicing. I have been surprised how often I have needed to know how to do this in my day-to-day job. Let’s take a look at how slicing works with the following string:"
   ]
  },
  {
   "cell_type": "code",
   "execution_count": 50,
   "id": "57d4227f",
   "metadata": {},
   "outputs": [
    {
     "name": "stdout",
     "output_type": "stream",
     "text": [
      "I\n"
     ]
    }
   ],
   "source": [
    "#slicing the string from 0th pos to 1st pos\n",
    "stringToSlice = 'I would like to slice this string.'\n",
    "print(stringToSlice[0:1])"
   ]
  },
  {
   "cell_type": "code",
   "execution_count": 51,
   "id": "60fad848",
   "metadata": {},
   "outputs": [
    {
     "name": "stdout",
     "output_type": "stream",
     "text": [
      "I would like to\n"
     ]
    }
   ],
   "source": [
    "#slicing the string from 0th pos to 15th pos\n",
    "stringToSlice = 'I would like to slice this string.'\n",
    "print(stringToSlice[0:15])"
   ]
  },
  {
   "cell_type": "code",
   "execution_count": 52,
   "id": "84bd7d76",
   "metadata": {},
   "outputs": [
    {
     "name": "stdout",
     "output_type": "stream",
     "text": [
      "I would like to slice this st\n"
     ]
    }
   ],
   "source": [
    "#slicing the string from the end\n",
    "stringToSlice = 'I would like to slice this string.'\n",
    "print(stringToSlice[0:-5])"
   ]
  },
  {
   "cell_type": "code",
   "execution_count": 53,
   "id": "cd8ca670",
   "metadata": {},
   "outputs": [
    {
     "data": {
      "text/plain": [
       "['__add__',\n",
       " '__class__',\n",
       " '__contains__',\n",
       " '__delattr__',\n",
       " '__dir__',\n",
       " '__doc__',\n",
       " '__eq__',\n",
       " '__format__',\n",
       " '__ge__',\n",
       " '__getattribute__',\n",
       " '__getitem__',\n",
       " '__getnewargs__',\n",
       " '__getstate__',\n",
       " '__gt__',\n",
       " '__hash__',\n",
       " '__init__',\n",
       " '__init_subclass__',\n",
       " '__iter__',\n",
       " '__le__',\n",
       " '__len__',\n",
       " '__lt__',\n",
       " '__mod__',\n",
       " '__mul__',\n",
       " '__ne__',\n",
       " '__new__',\n",
       " '__reduce__',\n",
       " '__reduce_ex__',\n",
       " '__repr__',\n",
       " '__rmod__',\n",
       " '__rmul__',\n",
       " '__setattr__',\n",
       " '__sizeof__',\n",
       " '__str__',\n",
       " '__subclasshook__',\n",
       " 'capitalize',\n",
       " 'casefold',\n",
       " 'center',\n",
       " 'count',\n",
       " 'encode',\n",
       " 'endswith',\n",
       " 'expandtabs',\n",
       " 'find',\n",
       " 'format',\n",
       " 'format_map',\n",
       " 'index',\n",
       " 'isalnum',\n",
       " 'isalpha',\n",
       " 'isascii',\n",
       " 'isdecimal',\n",
       " 'isdigit',\n",
       " 'isidentifier',\n",
       " 'islower',\n",
       " 'isnumeric',\n",
       " 'isprintable',\n",
       " 'isspace',\n",
       " 'istitle',\n",
       " 'isupper',\n",
       " 'join',\n",
       " 'ljust',\n",
       " 'lower',\n",
       " 'lstrip',\n",
       " 'maketrans',\n",
       " 'partition',\n",
       " 'removeprefix',\n",
       " 'removesuffix',\n",
       " 'replace',\n",
       " 'rfind',\n",
       " 'rindex',\n",
       " 'rjust',\n",
       " 'rpartition',\n",
       " 'rsplit',\n",
       " 'rstrip',\n",
       " 'split',\n",
       " 'splitlines',\n",
       " 'startswith',\n",
       " 'strip',\n",
       " 'swapcase',\n",
       " 'title',\n",
       " 'translate',\n",
       " 'upper',\n",
       " 'zfill']"
      ]
     },
     "execution_count": 53,
     "metadata": {},
     "output_type": "execute_result"
    }
   ],
   "source": [
    "#All the methods supported by string\n",
    "stringText =\"Hello World\"\n",
    "dir(stringText)"
   ]
  },
  {
   "cell_type": "markdown",
   "id": "87fbffca",
   "metadata": {},
   "source": [
    "### Accepting user input\n",
    "Input method is used to accept the input from the user."
   ]
  },
  {
   "cell_type": "code",
   "execution_count": 59,
   "id": "ad639f2b",
   "metadata": {},
   "outputs": [
    {
     "name": "stdout",
     "output_type": "stream",
     "text": [
      "Enter your name.Simba\n",
      "My name is  Simba\n"
     ]
    }
   ],
   "source": [
    "inputFromUser = input(\"Enter your name.\")\n",
    "print(\"My name is \"+ inputFromUser)"
   ]
  },
  {
   "cell_type": "markdown",
   "id": "d20c93dc",
   "metadata": {},
   "source": [
    "### String Formatting\n",
    "String substitution "
   ]
  },
  {
   "cell_type": "code",
   "execution_count": 2,
   "id": "902be5cd",
   "metadata": {},
   "outputs": [
    {
     "name": "stdout",
     "output_type": "stream",
     "text": [
      "My name is simba the shihtzu\n"
     ]
    }
   ],
   "source": [
    "myName =\"simba\"\n",
    "print(\"My name is %s the shihtzu\" % myName)"
   ]
  },
  {
   "cell_type": "code",
   "execution_count": 7,
   "id": "60929040",
   "metadata": {},
   "outputs": [
    {
     "name": "stdout",
     "output_type": "stream",
     "text": [
      "My name is Simba and my breed is Shih Tzu. \n"
     ]
    }
   ],
   "source": [
    "myName =\"Simba\"\n",
    "myBreed=\"Shih Tzu\"\n",
    "print(\"My name is %s and my breed is %s. \" % (myName,myBreed))"
   ]
  },
  {
   "cell_type": "code",
   "execution_count": 9,
   "id": "5a6e3d67",
   "metadata": {},
   "outputs": [
    {
     "name": "stdout",
     "output_type": "stream",
     "text": [
      "My name is Simba, my breed is Shih Tzu and I am 3 years old. \n"
     ]
    }
   ],
   "source": [
    "myName =\"Simba\"\n",
    "myBreed=\"Shih Tzu\"\n",
    "myAge = 3\n",
    "print(\"My name is %s, my breed is %s and I am %s years old. \" % (myName,myBreed, myAge))"
   ]
  },
  {
   "cell_type": "code",
   "execution_count": null,
   "id": "d64c56d4",
   "metadata": {},
   "outputs": [],
   "source": []
  }
 ],
 "metadata": {
  "kernelspec": {
   "display_name": "Python 3 (ipykernel)",
   "language": "python",
   "name": "python3"
  },
  "language_info": {
   "codemirror_mode": {
    "name": "ipython",
    "version": 3
   },
   "file_extension": ".py",
   "mimetype": "text/x-python",
   "name": "python",
   "nbconvert_exporter": "python",
   "pygments_lexer": "ipython3",
   "version": "3.11.5"
  }
 },
 "nbformat": 4,
 "nbformat_minor": 5
}
