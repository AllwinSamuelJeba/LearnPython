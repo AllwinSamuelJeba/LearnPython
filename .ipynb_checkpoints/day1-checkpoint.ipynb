{
 "cells": [
  {
   "cell_type": "markdown",
   "id": "9c34c121",
   "metadata": {},
   "source": [
    "# Day 1 - Learning Manipulating Strings\n",
    "\n",
    "https://python101.pythonlibrary.org/chapter2_strings.html"
   ]
  },
  {
   "cell_type": "markdown",
   "id": "672a698d",
   "metadata": {},
   "source": [
    "# Strings in Python"
   ]
  },
  {
   "cell_type": "markdown",
   "id": "4264f320",
   "metadata": {},
   "source": [
    "String can be created in 3 ways in Python.\n",
    "1. Using Double qoutes\n",
    "2. Using Single Qoutes\n",
    "3. Using three quoutes"
   ]
  },
  {
   "cell_type": "markdown",
   "id": "d87dc97a",
   "metadata": {},
   "source": [
    "## Using Double Quotes"
   ]
  },
  {
   "cell_type": "code",
   "execution_count": 44,
   "id": "c0f1cbca",
   "metadata": {},
   "outputs": [
    {
     "name": "stdout",
     "output_type": "stream",
     "text": [
      "This is a string in double quotes.\n"
     ]
    }
   ],
   "source": [
    "doubleQoutes =\"This is a string in double quotes.\"\n",
    "\n",
    "print(doubleQoutes)"
   ]
  },
  {
   "cell_type": "markdown",
   "id": "3cec6be8",
   "metadata": {},
   "source": [
    "## Using Single Quotes\n"
   ]
  },
  {
   "cell_type": "code",
   "execution_count": 45,
   "id": "4b116368",
   "metadata": {},
   "outputs": [
    {
     "name": "stdout",
     "output_type": "stream",
     "text": [
      "This is a string in single quotes.\n"
     ]
    }
   ],
   "source": [
    "singleQuotes = 'This is a string in single quotes.'\n",
    "print(singleQuotes)"
   ]
  },
  {
   "cell_type": "markdown",
   "id": "d7f9646b",
   "metadata": {},
   "source": [
    "## Using Triple Quotes"
   ]
  },
  {
   "cell_type": "code",
   "execution_count": 46,
   "id": "41d9f25c",
   "metadata": {},
   "outputs": [
    {
     "name": "stdout",
     "output_type": "stream",
     "text": [
      "This is used to type\n",
      "multiline string in \n",
      "Python.\n"
     ]
    }
   ],
   "source": [
    "tripleQoutes = '''This is used to type\n",
    "multiline string in \n",
    "Python.'''\n",
    "\n",
    "print(tripleQoutes)"
   ]
  },
  {
   "cell_type": "markdown",
   "id": "f4c16168",
   "metadata": {},
   "source": [
    "## String Concartination\n",
    "\n",
    "Multiple strings can be concartinated by using the \"+\" operator between them.\n"
   ]
  },
  {
   "cell_type": "code",
   "execution_count": 47,
   "id": "875e9f79",
   "metadata": {
    "scrolled": true
   },
   "outputs": [
    {
     "name": "stdout",
     "output_type": "stream",
     "text": [
      "This is a string in single quotes. This is a string in double quotes. This is used to type\n",
      "multiline string in \n",
      "Python.\n"
     ]
    }
   ],
   "source": [
    "concatString = singleQuotes + \" \" + doubleQoutes + \" \" + tripleQoutes\n",
    "print(concatString)"
   ]
  },
  {
   "cell_type": "markdown",
   "id": "8d1be7d4",
   "metadata": {},
   "source": [
    "## String Methods\n",
    "\n",
    "String offers various methods to manipulate the strings."
   ]
  },
  {
   "cell_type": "markdown",
   "id": "dd29fd1b",
   "metadata": {},
   "source": [
    "### Upper Case"
   ]
  },
  {
   "cell_type": "code",
   "execution_count": 48,
   "id": "0171842f",
   "metadata": {},
   "outputs": [
    {
     "name": "stdout",
     "output_type": "stream",
     "text": [
      "THIS STRING WILL BE CONVERTED INTO UPPERCASE WHILE PRINTING ON THE SCREEN.\n"
     ]
    }
   ],
   "source": [
    "stringInUpperCase = 'This string will be converted into uppercase while printing on the screen.'\n",
    "print(stringInUpperCase.upper())"
   ]
  },
  {
   "cell_type": "markdown",
   "id": "a5292e56",
   "metadata": {},
   "source": [
    "### Lower Case"
   ]
  },
  {
   "cell_type": "code",
   "execution_count": 49,
   "id": "f8501933",
   "metadata": {},
   "outputs": [
    {
     "name": "stdout",
     "output_type": "stream",
     "text": [
      "this string will be converted into lowercase while printing on the screen.\n"
     ]
    }
   ],
   "source": [
    "stringInLowerCase = 'THIS STRING WILL BE CONVERTED INTO LOWERCASE WHILE PRINTING ON THE SCREEN.'\n",
    "print(stringInLowerCase.lower())"
   ]
  },
  {
   "cell_type": "markdown",
   "id": "9c6ca242",
   "metadata": {},
   "source": [
    "### String Slicing\n",
    "\n",
    "One subject that you’ll find yourself doing a lot of in the real world is string slicing. I have been surprised how often I have needed to know how to do this in my day-to-day job. Let’s take a look at how slicing works with the following string:"
   ]
  },
  {
   "cell_type": "code",
   "execution_count": 50,
   "id": "fff4878c",
   "metadata": {},
   "outputs": [
    {
     "name": "stdout",
     "output_type": "stream",
     "text": [
      "I\n"
     ]
    }
   ],
   "source": [
    "#slicing the string from 0th pos to 1st pos\n",
    "stringToSlice = 'I would like to slice this string.'\n",
    "print(stringToSlice[0:1])"
   ]
  },
  {
   "cell_type": "code",
   "execution_count": 51,
   "id": "64bd1e3a",
   "metadata": {},
   "outputs": [
    {
     "name": "stdout",
     "output_type": "stream",
     "text": [
      "I would like to\n"
     ]
    }
   ],
   "source": [
    "#slicing the string from 0th pos to 15th pos\n",
    "stringToSlice = 'I would like to slice this string.'\n",
    "print(stringToSlice[0:15])"
   ]
  },
  {
   "cell_type": "code",
   "execution_count": 52,
   "id": "a9adc292",
   "metadata": {},
   "outputs": [
    {
     "name": "stdout",
     "output_type": "stream",
     "text": [
      "I would like to slice this st\n"
     ]
    }
   ],
   "source": [
    "#slicing the string from the end\n",
    "stringToSlice = 'I would like to slice this string.'\n",
    "print(stringToSlice[0:-5])"
   ]
  },
  {
   "cell_type": "code",
   "execution_count": 53,
   "id": "661e5724",
   "metadata": {},
   "outputs": [
    {
     "data": {
      "text/plain": [
       "['__add__',\n",
       " '__class__',\n",
       " '__contains__',\n",
       " '__delattr__',\n",
       " '__dir__',\n",
       " '__doc__',\n",
       " '__eq__',\n",
       " '__format__',\n",
       " '__ge__',\n",
       " '__getattribute__',\n",
       " '__getitem__',\n",
       " '__getnewargs__',\n",
       " '__getstate__',\n",
       " '__gt__',\n",
       " '__hash__',\n",
       " '__init__',\n",
       " '__init_subclass__',\n",
       " '__iter__',\n",
       " '__le__',\n",
       " '__len__',\n",
       " '__lt__',\n",
       " '__mod__',\n",
       " '__mul__',\n",
       " '__ne__',\n",
       " '__new__',\n",
       " '__reduce__',\n",
       " '__reduce_ex__',\n",
       " '__repr__',\n",
       " '__rmod__',\n",
       " '__rmul__',\n",
       " '__setattr__',\n",
       " '__sizeof__',\n",
       " '__str__',\n",
       " '__subclasshook__',\n",
       " 'capitalize',\n",
       " 'casefold',\n",
       " 'center',\n",
       " 'count',\n",
       " 'encode',\n",
       " 'endswith',\n",
       " 'expandtabs',\n",
       " 'find',\n",
       " 'format',\n",
       " 'format_map',\n",
       " 'index',\n",
       " 'isalnum',\n",
       " 'isalpha',\n",
       " 'isascii',\n",
       " 'isdecimal',\n",
       " 'isdigit',\n",
       " 'isidentifier',\n",
       " 'islower',\n",
       " 'isnumeric',\n",
       " 'isprintable',\n",
       " 'isspace',\n",
       " 'istitle',\n",
       " 'isupper',\n",
       " 'join',\n",
       " 'ljust',\n",
       " 'lower',\n",
       " 'lstrip',\n",
       " 'maketrans',\n",
       " 'partition',\n",
       " 'removeprefix',\n",
       " 'removesuffix',\n",
       " 'replace',\n",
       " 'rfind',\n",
       " 'rindex',\n",
       " 'rjust',\n",
       " 'rpartition',\n",
       " 'rsplit',\n",
       " 'rstrip',\n",
       " 'split',\n",
       " 'splitlines',\n",
       " 'startswith',\n",
       " 'strip',\n",
       " 'swapcase',\n",
       " 'title',\n",
       " 'translate',\n",
       " 'upper',\n",
       " 'zfill']"
      ]
     },
     "execution_count": 53,
     "metadata": {},
     "output_type": "execute_result"
    }
   ],
   "source": [
    "#All the methods supported by string\n",
    "stringText =\"Hello World\"\n",
    "dir(stringText)"
   ]
  },
  {
   "cell_type": "code",
   "execution_count": null,
   "id": "d8c9a988",
   "metadata": {},
   "outputs": [],
   "source": []
  }
 ],
 "metadata": {
  "kernelspec": {
   "display_name": "Python 3 (ipykernel)",
   "language": "python",
   "name": "python3"
  },
  "language_info": {
   "codemirror_mode": {
    "name": "ipython",
    "version": 3
   },
   "file_extension": ".py",
   "mimetype": "text/x-python",
   "name": "python",
   "nbconvert_exporter": "python",
   "pygments_lexer": "ipython3",
   "version": "3.11.5"
  }
 },
 "nbformat": 4,
 "nbformat_minor": 5
}
