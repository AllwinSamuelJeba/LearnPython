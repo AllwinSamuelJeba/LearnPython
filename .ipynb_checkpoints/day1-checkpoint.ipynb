{
 "cells": [
  {
   "cell_type": "markdown",
   "id": "9b30ca75",
   "metadata": {},
   "source": [
    "# Strings in Python"
   ]
  },
  {
   "cell_type": "markdown",
   "id": "5d52da95",
   "metadata": {},
   "source": [
    "String can be created in 3 ways in Python.\n",
    "1. Using Double qoutes\n",
    "2. Using Single Qoutes\n",
    "3. Using three quoutes"
   ]
  },
  {
   "cell_type": "markdown",
   "id": "aebee875",
   "metadata": {},
   "source": [
    "## Using Double Quotes"
   ]
  },
  {
   "cell_type": "code",
   "execution_count": 44,
   "id": "2051cd0f",
   "metadata": {},
   "outputs": [
    {
     "name": "stdout",
     "output_type": "stream",
     "text": [
      "This is a string in double quotes.\n"
     ]
    }
   ],
   "source": [
    "doubleQoutes =\"This is a string in double quotes.\"\n",
    "\n",
    "print(doubleQoutes)"
   ]
  },
  {
   "cell_type": "markdown",
   "id": "ea7c4418",
   "metadata": {},
   "source": [
    "## Using Single Quotes\n"
   ]
  },
  {
   "cell_type": "code",
   "execution_count": 45,
   "id": "752d8f24",
   "metadata": {},
   "outputs": [
    {
     "name": "stdout",
     "output_type": "stream",
     "text": [
      "This is a string in single quotes.\n"
     ]
    }
   ],
   "source": [
    "singleQuotes = 'This is a string in single quotes.'\n",
    "print(singleQuotes)"
   ]
  },
  {
   "cell_type": "markdown",
   "id": "8f8e3d09",
   "metadata": {},
   "source": [
    "## Using Triple Quotes"
   ]
  },
  {
   "cell_type": "code",
   "execution_count": 46,
   "id": "7d48a88b",
   "metadata": {},
   "outputs": [
    {
     "name": "stdout",
     "output_type": "stream",
     "text": [
      "This is used to type\n",
      "multiline string in \n",
      "Python.\n"
     ]
    }
   ],
   "source": [
    "tripleQoutes = '''This is used to type\n",
    "multiline string in \n",
    "Python.'''\n",
    "\n",
    "print(tripleQoutes)"
   ]
  },
  {
   "cell_type": "markdown",
   "id": "2ad96ceb",
   "metadata": {},
   "source": [
    "## String Concartination\n",
    "\n",
    "Multiple strings can be concartinated by using the \"+\" operator between them.\n"
   ]
  },
  {
   "cell_type": "code",
   "execution_count": 47,
   "id": "a2665710",
   "metadata": {
    "scrolled": true
   },
   "outputs": [
    {
     "name": "stdout",
     "output_type": "stream",
     "text": [
      "This is a string in single quotes. This is a string in double quotes. This is used to type\n",
      "multiline string in \n",
      "Python.\n"
     ]
    }
   ],
   "source": [
    "concatString = singleQuotes + \" \" + doubleQoutes + \" \" + tripleQoutes\n",
    "print(concatString)"
   ]
  },
  {
   "cell_type": "markdown",
   "id": "c975f260",
   "metadata": {},
   "source": [
    "## String Methods\n",
    "\n",
    "String offers various methods to manipulate the strings."
   ]
  },
  {
   "cell_type": "markdown",
   "id": "12c32df4",
   "metadata": {},
   "source": [
    "### Upper Case"
   ]
  },
  {
   "cell_type": "code",
   "execution_count": 48,
   "id": "25af381b",
   "metadata": {},
   "outputs": [
    {
     "name": "stdout",
     "output_type": "stream",
     "text": [
      "THIS STRING WILL BE CONVERTED INTO UPPERCASE WHILE PRINTING ON THE SCREEN.\n"
     ]
    }
   ],
   "source": [
    "stringInUpperCase = 'This string will be converted into uppercase while printing on the screen.'\n",
    "print(stringInUpperCase.upper())"
   ]
  },
  {
   "cell_type": "markdown",
   "id": "7dc5078a",
   "metadata": {},
   "source": [
    "### Lower Case"
   ]
  },
  {
   "cell_type": "code",
   "execution_count": 49,
   "id": "388b3a2e",
   "metadata": {},
   "outputs": [
    {
     "name": "stdout",
     "output_type": "stream",
     "text": [
      "this string will be converted into lowercase while printing on the screen.\n"
     ]
    }
   ],
   "source": [
    "stringInLowerCase = 'THIS STRING WILL BE CONVERTED INTO LOWERCASE WHILE PRINTING ON THE SCREEN.'\n",
    "print(stringInLowerCase.lower())"
   ]
  },
  {
   "cell_type": "markdown",
   "id": "6d38c540",
   "metadata": {},
   "source": [
    "### String Slicing\n",
    "\n",
    "One subject that you’ll find yourself doing a lot of in the real world is string slicing. I have been surprised how often I have needed to know how to do this in my day-to-day job. Let’s take a look at how slicing works with the following string:"
   ]
  },
  {
   "cell_type": "code",
   "execution_count": 50,
   "id": "8f3d9de7",
   "metadata": {},
   "outputs": [
    {
     "name": "stdout",
     "output_type": "stream",
     "text": [
      "I\n"
     ]
    }
   ],
   "source": [
    "#slicing the string from 0th pos to 1st pos\n",
    "stringToSlice = 'I would like to slice this string.'\n",
    "print(stringToSlice[0:1])"
   ]
  },
  {
   "cell_type": "code",
   "execution_count": 51,
   "id": "7f1fa6ee",
   "metadata": {},
   "outputs": [
    {
     "name": "stdout",
     "output_type": "stream",
     "text": [
      "I would like to\n"
     ]
    }
   ],
   "source": [
    "#slicing the string from 0th pos to 15th pos\n",
    "stringToSlice = 'I would like to slice this string.'\n",
    "print(stringToSlice[0:15])"
   ]
  },
  {
   "cell_type": "code",
   "execution_count": 52,
   "id": "ff0cad46",
   "metadata": {},
   "outputs": [
    {
     "name": "stdout",
     "output_type": "stream",
     "text": [
      "I would like to slice this st\n"
     ]
    }
   ],
   "source": [
    "#slicing the string from the end\n",
    "stringToSlice = 'I would like to slice this string.'\n",
    "print(stringToSlice[0:-5])"
   ]
  },
  {
   "cell_type": "code",
   "execution_count": 53,
   "id": "4e1605e7",
   "metadata": {},
   "outputs": [
    {
     "data": {
      "text/plain": [
       "['__add__',\n",
       " '__class__',\n",
       " '__contains__',\n",
       " '__delattr__',\n",
       " '__dir__',\n",
       " '__doc__',\n",
       " '__eq__',\n",
       " '__format__',\n",
       " '__ge__',\n",
       " '__getattribute__',\n",
       " '__getitem__',\n",
       " '__getnewargs__',\n",
       " '__getstate__',\n",
       " '__gt__',\n",
       " '__hash__',\n",
       " '__init__',\n",
       " '__init_subclass__',\n",
       " '__iter__',\n",
       " '__le__',\n",
       " '__len__',\n",
       " '__lt__',\n",
       " '__mod__',\n",
       " '__mul__',\n",
       " '__ne__',\n",
       " '__new__',\n",
       " '__reduce__',\n",
       " '__reduce_ex__',\n",
       " '__repr__',\n",
       " '__rmod__',\n",
       " '__rmul__',\n",
       " '__setattr__',\n",
       " '__sizeof__',\n",
       " '__str__',\n",
       " '__subclasshook__',\n",
       " 'capitalize',\n",
       " 'casefold',\n",
       " 'center',\n",
       " 'count',\n",
       " 'encode',\n",
       " 'endswith',\n",
       " 'expandtabs',\n",
       " 'find',\n",
       " 'format',\n",
       " 'format_map',\n",
       " 'index',\n",
       " 'isalnum',\n",
       " 'isalpha',\n",
       " 'isascii',\n",
       " 'isdecimal',\n",
       " 'isdigit',\n",
       " 'isidentifier',\n",
       " 'islower',\n",
       " 'isnumeric',\n",
       " 'isprintable',\n",
       " 'isspace',\n",
       " 'istitle',\n",
       " 'isupper',\n",
       " 'join',\n",
       " 'ljust',\n",
       " 'lower',\n",
       " 'lstrip',\n",
       " 'maketrans',\n",
       " 'partition',\n",
       " 'removeprefix',\n",
       " 'removesuffix',\n",
       " 'replace',\n",
       " 'rfind',\n",
       " 'rindex',\n",
       " 'rjust',\n",
       " 'rpartition',\n",
       " 'rsplit',\n",
       " 'rstrip',\n",
       " 'split',\n",
       " 'splitlines',\n",
       " 'startswith',\n",
       " 'strip',\n",
       " 'swapcase',\n",
       " 'title',\n",
       " 'translate',\n",
       " 'upper',\n",
       " 'zfill']"
      ]
     },
     "execution_count": 53,
     "metadata": {},
     "output_type": "execute_result"
    }
   ],
   "source": [
    "#All the methods supported by string\n",
    "stringText =\"Hello World\"\n",
    "dir(stringText)"
   ]
  },
  {
   "cell_type": "code",
   "execution_count": null,
   "id": "210992b9",
   "metadata": {},
   "outputs": [],
   "source": []
  }
 ],
 "metadata": {
  "kernelspec": {
   "display_name": "Python 3 (ipykernel)",
   "language": "python",
   "name": "python3"
  },
  "language_info": {
   "codemirror_mode": {
    "name": "ipython",
    "version": 3
   },
   "file_extension": ".py",
   "mimetype": "text/x-python",
   "name": "python",
   "nbconvert_exporter": "python",
   "pygments_lexer": "ipython3",
   "version": "3.11.5"
  }
 },
 "nbformat": 4,
 "nbformat_minor": 5
}
